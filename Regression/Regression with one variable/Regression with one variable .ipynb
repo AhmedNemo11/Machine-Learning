{
 "cells": [
  {
   "cell_type": "markdown",
   "id": "027619ed-1eb1-4e2f-b965-1c01ed8b7c57",
   "metadata": {},
   "source": [
    "## import librariesabs"
   ]
  },
  {
   "cell_type": "code",
   "execution_count": 1,
   "id": "f349b99a-a6be-4cb7-8841-a1387a676971",
   "metadata": {},
   "outputs": [],
   "source": [
    "import numpy as np \n",
    "import pandas as pd \n",
    "import matplotlib.pyplot as plt "
   ]
  },
  {
   "cell_type": "markdown",
   "id": "8c9b87ff-a45e-4f2c-9ae1-b1df89c7bdda",
   "metadata": {},
   "source": [
    "## read data"
   ]
  },
  {
   "cell_type": "code",
   "execution_count": 2,
   "id": "15d50bee-b075-4f98-97c1-e78ed8c7892e",
   "metadata": {},
   "outputs": [
    {
     "data": {
      "text/html": [
       "<div>\n",
       "<style scoped>\n",
       "    .dataframe tbody tr th:only-of-type {\n",
       "        vertical-align: middle;\n",
       "    }\n",
       "\n",
       "    .dataframe tbody tr th {\n",
       "        vertical-align: top;\n",
       "    }\n",
       "\n",
       "    .dataframe thead th {\n",
       "        text-align: right;\n",
       "    }\n",
       "</style>\n",
       "<table border=\"1\" class=\"dataframe\">\n",
       "  <thead>\n",
       "    <tr style=\"text-align: right;\">\n",
       "      <th></th>\n",
       "      <th>Population</th>\n",
       "      <th>Profit</th>\n",
       "    </tr>\n",
       "  </thead>\n",
       "  <tbody>\n",
       "    <tr>\n",
       "      <th>0</th>\n",
       "      <td>6.1101</td>\n",
       "      <td>17.5920</td>\n",
       "    </tr>\n",
       "    <tr>\n",
       "      <th>1</th>\n",
       "      <td>5.5277</td>\n",
       "      <td>9.1302</td>\n",
       "    </tr>\n",
       "    <tr>\n",
       "      <th>2</th>\n",
       "      <td>8.5186</td>\n",
       "      <td>13.6620</td>\n",
       "    </tr>\n",
       "    <tr>\n",
       "      <th>3</th>\n",
       "      <td>7.0032</td>\n",
       "      <td>11.8540</td>\n",
       "    </tr>\n",
       "    <tr>\n",
       "      <th>4</th>\n",
       "      <td>5.8598</td>\n",
       "      <td>6.8233</td>\n",
       "    </tr>\n",
       "  </tbody>\n",
       "</table>\n",
       "</div>"
      ],
      "text/plain": [
       "   Population   Profit\n",
       "0      6.1101  17.5920\n",
       "1      5.5277   9.1302\n",
       "2      8.5186  13.6620\n",
       "3      7.0032  11.8540\n",
       "4      5.8598   6.8233"
      ]
     },
     "execution_count": 2,
     "metadata": {},
     "output_type": "execute_result"
    }
   ],
   "source": [
    "data = pd.read_csv('data.txt', header=None, names=['Population', 'Profit'])\n",
    "\n",
    " #read data\n",
    "data.head()"
   ]
  },
  {
   "cell_type": "code",
   "execution_count": 3,
   "id": "de026e9c-e244-49c2-9cd7-33576ca29871",
   "metadata": {},
   "outputs": [
    {
     "data": {
      "text/html": [
       "<div>\n",
       "<style scoped>\n",
       "    .dataframe tbody tr th:only-of-type {\n",
       "        vertical-align: middle;\n",
       "    }\n",
       "\n",
       "    .dataframe tbody tr th {\n",
       "        vertical-align: top;\n",
       "    }\n",
       "\n",
       "    .dataframe thead th {\n",
       "        text-align: right;\n",
       "    }\n",
       "</style>\n",
       "<table border=\"1\" class=\"dataframe\">\n",
       "  <thead>\n",
       "    <tr style=\"text-align: right;\">\n",
       "      <th></th>\n",
       "      <th>Population</th>\n",
       "      <th>Profit</th>\n",
       "    </tr>\n",
       "  </thead>\n",
       "  <tbody>\n",
       "    <tr>\n",
       "      <th>count</th>\n",
       "      <td>97.000000</td>\n",
       "      <td>97.000000</td>\n",
       "    </tr>\n",
       "    <tr>\n",
       "      <th>mean</th>\n",
       "      <td>8.159800</td>\n",
       "      <td>5.839135</td>\n",
       "    </tr>\n",
       "    <tr>\n",
       "      <th>std</th>\n",
       "      <td>3.869884</td>\n",
       "      <td>5.510262</td>\n",
       "    </tr>\n",
       "    <tr>\n",
       "      <th>min</th>\n",
       "      <td>5.026900</td>\n",
       "      <td>-2.680700</td>\n",
       "    </tr>\n",
       "    <tr>\n",
       "      <th>25%</th>\n",
       "      <td>5.707700</td>\n",
       "      <td>1.986900</td>\n",
       "    </tr>\n",
       "    <tr>\n",
       "      <th>50%</th>\n",
       "      <td>6.589400</td>\n",
       "      <td>4.562300</td>\n",
       "    </tr>\n",
       "    <tr>\n",
       "      <th>75%</th>\n",
       "      <td>8.578100</td>\n",
       "      <td>7.046700</td>\n",
       "    </tr>\n",
       "    <tr>\n",
       "      <th>max</th>\n",
       "      <td>22.203000</td>\n",
       "      <td>24.147000</td>\n",
       "    </tr>\n",
       "  </tbody>\n",
       "</table>\n",
       "</div>"
      ],
      "text/plain": [
       "       Population     Profit\n",
       "count   97.000000  97.000000\n",
       "mean     8.159800   5.839135\n",
       "std      3.869884   5.510262\n",
       "min      5.026900  -2.680700\n",
       "25%      5.707700   1.986900\n",
       "50%      6.589400   4.562300\n",
       "75%      8.578100   7.046700\n",
       "max     22.203000  24.147000"
      ]
     },
     "execution_count": 3,
     "metadata": {},
     "output_type": "execute_result"
    }
   ],
   "source": [
    "#show data details\n",
    "data.describe()"
   ]
  },
  {
   "cell_type": "code",
   "execution_count": 4,
   "id": "c16373e6-e0f8-4fc2-a1e0-9cb29f3186ff",
   "metadata": {},
   "outputs": [
    {
     "data": {
      "text/plain": [
       "<Axes: xlabel='Population', ylabel='Profit'>"
      ]
     },
     "execution_count": 4,
     "metadata": {},
     "output_type": "execute_result"
    },
    {
     "data": {
      "image/png": "[encoded data removed]",
      "text/plain": [
       "<Figure size 500x500 with 1 Axes>"
      ]
     },
     "metadata": {},
     "output_type": "display_data"
    }
   ],
   "source": [
    " #draw data\n",
    " data.plot(kind='scatter', x='Population', y='Profit', figsize=(5,5))"
   ]
  },
  {
   "cell_type": "markdown",
   "id": "3ea332ba-2e9c-4492-a877-6e7a63042555",
   "metadata": {},
   "source": [
    "##  adding a new column called ones before the data"
   ]
  },
  {
   "cell_type": "code",
   "execution_count": 5,
   "id": "7422ef04-1b8b-4ee5-a5f5-5b6fb92dbfde",
   "metadata": {},
   "outputs": [
    {
     "data": {
      "text/html": [
       "<div>\n",
       "<style scoped>\n",
       "    .dataframe tbody tr th:only-of-type {\n",
       "        vertical-align: middle;\n",
       "    }\n",
       "\n",
       "    .dataframe tbody tr th {\n",
       "        vertical-align: top;\n",
       "    }\n",
       "\n",
       "    .dataframe thead th {\n",
       "        text-align: right;\n",
       "    }\n",
       "</style>\n",
       "<table border=\"1\" class=\"dataframe\">\n",
       "  <thead>\n",
       "    <tr style=\"text-align: right;\">\n",
       "      <th></th>\n",
       "      <th>ones</th>\n",
       "      <th>Population</th>\n",
       "      <th>Profit</th>\n",
       "    </tr>\n",
       "  </thead>\n",
       "  <tbody>\n",
       "    <tr>\n",
       "      <th>0</th>\n",
       "      <td>1</td>\n",
       "      <td>6.1101</td>\n",
       "      <td>17.5920</td>\n",
       "    </tr>\n",
       "    <tr>\n",
       "      <th>1</th>\n",
       "      <td>1</td>\n",
       "      <td>5.5277</td>\n",
       "      <td>9.1302</td>\n",
       "    </tr>\n",
       "    <tr>\n",
       "      <th>2</th>\n",
       "      <td>1</td>\n",
       "      <td>8.5186</td>\n",
       "      <td>13.6620</td>\n",
       "    </tr>\n",
       "    <tr>\n",
       "      <th>3</th>\n",
       "      <td>1</td>\n",
       "      <td>7.0032</td>\n",
       "      <td>11.8540</td>\n",
       "    </tr>\n",
       "    <tr>\n",
       "      <th>4</th>\n",
       "      <td>1</td>\n",
       "      <td>5.8598</td>\n",
       "      <td>6.8233</td>\n",
       "    </tr>\n",
       "  </tbody>\n",
       "</table>\n",
       "</div>"
      ],
      "text/plain": [
       "   ones  Population   Profit\n",
       "0     1      6.1101  17.5920\n",
       "1     1      5.5277   9.1302\n",
       "2     1      8.5186  13.6620\n",
       "3     1      7.0032  11.8540\n",
       "4     1      5.8598   6.8233"
      ]
     },
     "execution_count": 5,
     "metadata": {},
     "output_type": "execute_result"
    }
   ],
   "source": [
    "data.insert(0,'ones',1)\n",
    "data.head()"
   ]
  },
  {
   "cell_type": "code",
   "execution_count": 6,
   "id": "bb47bdbd-199d-4544-9de1-be96700e103a",
   "metadata": {},
   "outputs": [
    {
     "name": "stdout",
     "output_type": "stream",
     "text": [
      "**************************************\n",
      "X data = \n",
      "    ones  Population\n",
      "0     1      6.1101\n",
      "1     1      5.5277\n",
      "2     1      8.5186\n",
      "3     1      7.0032\n",
      "4     1      5.8598\n",
      "5     1      8.3829\n",
      "6     1      7.4764\n",
      "7     1      8.5781\n",
      "8     1      6.4862\n",
      "9     1      5.0546\n",
      "**************************************\n",
      "y data = \n",
      "     Profit\n",
      "0  17.5920\n",
      "1   9.1302\n",
      "2  13.6620\n",
      "3  11.8540\n",
      "4   6.8233\n",
      "5  11.8860\n",
      "6   4.3483\n",
      "7  12.0000\n",
      "8   6.5987\n",
      "9   3.8166\n"
     ]
    }
   ],
   "source": [
    " # separate X (training data) from y (target variable)\n",
    " cols = data.shape[1]\n",
    " X =data.iloc[:,0:cols-1]\n",
    " y = data.iloc[:,cols-1:cols]\n",
    "\n",
    " print('**************************************')\n",
    " print('X data = \\n' ,X.head(10) )\n",
    " print('**************************************')\n",
    " print('y data = \\n' ,y.head(10) )"
   ]
  },
  {
   "cell_type": "markdown",
   "id": "172ac65d-b3c0-4841-9c4b-37f99a17819c",
   "metadata": {},
   "source": [
    "## convert from data frames to numpy matrices\r\n"
   ]
  },
  {
   "cell_type": "code",
   "execution_count": 7,
   "id": "f0db3fa2-f3a1-4870-b8a0-abf5ab26c089",
   "metadata": {},
   "outputs": [],
   "source": [
    "X = np.matrix(X.values)\n",
    "y = np.matrix(y.values)\n",
    "theta = np.matrix(np.array([0,0]))"
   ]
  },
  {
   "cell_type": "code",
   "execution_count": 8,
   "id": "c6b1db02-9d82-44ee-8211-92ff03fca4ff",
   "metadata": {},
   "outputs": [
    {
     "name": "stdout",
     "output_type": "stream",
     "text": [
      "X \n",
      " [[1.     6.1101]\n",
      " [1.     5.5277]\n",
      " [1.     8.5186]]\n",
      "X.shape =  (97, 2)\n",
      "theta \n",
      " [[0 0]]\n",
      "theta.shape =  (1, 2)\n",
      "y \n",
      " [[17.592 ]\n",
      " [ 9.1302]\n",
      " [13.662 ]]\n",
      "y.shape =  (97, 1)\n",
      "**************************************\n"
     ]
    }
   ],
   "source": [
    " print('X \\n',X[:3])\n",
    " print('X.shape = ' , X.shape)\n",
    " print('theta \\n',theta)\n",
    " print('theta.shape = ' , theta.shape)\n",
    " print('y \\n',y[:3])\n",
    " print('y.shape = ' , y.shape)\n",
    " print('**************************************')"
   ]
  },
  {
   "cell_type": "markdown",
   "id": "a962bbaf-194d-47e3-a3a4-16c37d008c5a",
   "metadata": {},
   "source": [
    "## cost function\r\n"
   ]
  },
  {
   "cell_type": "code",
   "execution_count": 9,
   "id": "d0edb86f-6574-4668-a18c-d997a0d5b4f5",
   "metadata": {},
   "outputs": [],
   "source": [
    "def cost(X ,y ,theta):\n",
    "    z = np.power(((X * theta.T))-y,2)\n",
    "    m = len(X)\n",
    "    #print(z)\n",
    "    #print(m)\n",
    "    return np.sum(z)/m           \n",
    "    "
   ]
  },
  {
   "cell_type": "code",
   "execution_count": 10,
   "id": "c42f5809-daa1-40e5-a097-8b30e9d14399",
   "metadata": {},
   "outputs": [
    {
     "data": {
      "text/plain": [
       "64.14546775491135"
      ]
     },
     "execution_count": 10,
     "metadata": {},
     "output_type": "execute_result"
    }
   ],
   "source": [
    "cost(X,y,theta)"
   ]
  },
  {
   "cell_type": "markdown",
   "id": "2d70b025-6f70-4596-a862-e5b664893b4f",
   "metadata": {},
   "source": [
    "## gradientDescent function"
   ]
  },
  {
   "cell_type": "code",
   "execution_count": 11,
   "id": "8296ab03-6d55-40e2-b532-dc7073ffdfc8",
   "metadata": {},
   "outputs": [],
   "source": [
    "def gradientDescent(X ,y ,theta ,alpha ,iters):\n",
    "    temp = np.matrix(np.zeros(theta.shape))\n",
    "    parametar = int(theta.ravel().shape[1])\n",
    "    costt = np.zeros(iters)\n",
    "\n",
    "    for i in range(iters):\n",
    "        error = (X * theta.T)-y\n",
    "\n",
    "        for j in range(parametar):\n",
    "            term = np.multiply(error, X[:,j])\n",
    "            temp[0,j] = theta[0,j] - ((alpha/len(X)) * np.sum(term))\n",
    "\n",
    "        theta = temp\n",
    "        costt[i] = cost(X,y,theta)\n",
    "\n",
    "    return theta,costt"
   ]
  },
  {
   "cell_type": "code",
   "execution_count": 12,
   "id": "3f87edf8-58c4-4020-abba-53fd86226752",
   "metadata": {
    "scrolled": true
   },
   "outputs": [
    {
     "name": "stdout",
     "output_type": "stream",
     "text": [
      "g =  [[-3.24140214  1.1272942 ]]\n",
      "cost =  [13.47438093 11.86318714 11.80230941 11.79045717 11.78018989 11.77000832\n",
      " 11.75986496 11.74975819 11.73968782 11.72965373 11.71965578 11.70969384\n",
      " 11.69976778 11.68987748 11.6800228  11.67020362 11.6604198  11.65067123\n",
      " 11.64095777 11.6312793  11.62163569 11.61202681 11.60245254 11.59291276\n",
      " 11.58340735 11.57393617 11.5644991  11.55509603 11.54572682 11.53639137\n",
      " 11.52708954 11.51782121 11.50858627 11.49938459 11.49021606 11.48108055\n",
      " 11.47197794 11.46290812 11.45387098 11.44486638 11.43589421 11.42695437\n",
      " 11.41804672 11.40917116 11.40032757 11.39151584 11.38273584 11.37398747\n",
      " 11.3652706  11.35658514]\n",
      "computeCost =  9.031911006157827\n"
     ]
    }
   ],
   "source": [
    " # initialize variables for learning rate and iterations\n",
    " alpha= 0.01\n",
    " iters= 1000\n",
    "\n",
    " # perform gradient descent to \"fit\" the model parameters\n",
    " g, costt = gradientDescent(X, y, theta, alpha, iters)\n",
    " print('g = ' , g)\n",
    " print('cost = ' , costt[0:50] )\n",
    " print('computeCost = ' , cost(X, y, g))"
   ]
  },
  {
   "cell_type": "markdown",
   "id": "aa70f6eb-cd15-4c51-98d5-072c601fa3c8",
   "metadata": {},
   "source": [
    "## get best fit line"
   ]
  },
  {
   "cell_type": "code",
   "execution_count": 13,
   "id": "4c936078-674c-44c3-b401-0fb48192d9bd",
   "metadata": {},
   "outputs": [
    {
     "data": {
      "text/plain": [
       "array([ 2.42539308,  2.62097407,  2.81655506,  3.01213605,  3.20771704,\n",
       "        3.40329803,  3.59887902,  3.79446001,  3.990041  ,  4.18562199,\n",
       "        4.38120298,  4.57678397,  4.77236495,  4.96794594,  5.16352693,\n",
       "        5.35910792,  5.55468891,  5.7502699 ,  5.94585089,  6.14143188,\n",
       "        6.33701287,  6.53259386,  6.72817485,  6.92375584,  7.11933683,\n",
       "        7.31491782,  7.51049881,  7.7060798 ,  7.90166079,  8.09724177,\n",
       "        8.29282276,  8.48840375,  8.68398474,  8.87956573,  9.07514672,\n",
       "        9.27072771,  9.4663087 ,  9.66188969,  9.85747068, 10.05305167,\n",
       "       10.24863266, 10.44421365, 10.63979464, 10.83537563, 11.03095662,\n",
       "       11.2265376 , 11.42211859, 11.61769958, 11.81328057, 12.00886156,\n",
       "       12.20444255, 12.40002354, 12.59560453, 12.79118552, 12.98676651,\n",
       "       13.1823475 , 13.37792849, 13.57350948, 13.76909047, 13.96467146,\n",
       "       14.16025245, 14.35583344, 14.55141442, 14.74699541, 14.9425764 ,\n",
       "       15.13815739, 15.33373838, 15.52931937, 15.72490036, 15.92048135,\n",
       "       16.11606234, 16.31164333, 16.50722432, 16.70280531, 16.8983863 ,\n",
       "       17.09396729, 17.28954828, 17.48512927, 17.68071025, 17.87629124,\n",
       "       18.07187223, 18.26745322, 18.46303421, 18.6586152 , 18.85419619,\n",
       "       19.04977718, 19.24535817, 19.44093916, 19.63652015, 19.83210114,\n",
       "       20.02768213, 20.22326312, 20.41884411, 20.6144251 , 20.81000609,\n",
       "       21.00558707, 21.20116806, 21.39674905, 21.59233004, 21.78791103])"
      ]
     },
     "execution_count": 13,
     "metadata": {},
     "output_type": "execute_result"
    }
   ],
   "source": [
    " x = np.linspace(data.Population.min(), data.Population.max(), 100)\n",
    " f = g[0, 0] + (g[0, 1] * (x))\n",
    " f"
   ]
  },
  {
   "cell_type": "markdown",
   "id": "2d242bb2-a15d-4231-8257-ed4a06e19aa3",
   "metadata": {},
   "source": [
    " ## draw the line"
   ]
  },
  {
   "cell_type": "code",
   "execution_count": 14,
   "id": "9a2387ef-c404-4cd7-9d4b-3580f71ba6b8",
   "metadata": {},
   "outputs": [
    {
     "data": {
      "text/plain": [
       "Text(0.5, 1.0, 'Predicted Profit vs. Population Size')"
      ]
     },
     "execution_count": 14,
     "metadata": {},
     "output_type": "execute_result"
    },
    {
     "data": {
      "image/png": "[encoded data removed]",
      "text/plain": [
       "<Figure size 500x500 with 1 Axes>"
      ]
     },
     "metadata": {},
     "output_type": "display_data"
    }
   ],
   "source": [
    " fig, ax = plt.subplots(figsize=(5,5))\n",
    " ax.plot(x, f, 'r', label='Prediction')\n",
    " ax.scatter(data.Population, data.Profit, label='Traning Data')\n",
    " ax.legend(loc=2)\n",
    " ax.set_xlabel('Population')\n",
    " ax.set_ylabel('Profit')\n",
    " ax.set_title('Predicted Profit vs. Population Size')"
   ]
  },
  {
   "cell_type": "code",
   "execution_count": 15,
   "id": "23cc9d2c-ca15-424f-897e-1d9ca5a6f197",
   "metadata": {},
   "outputs": [
    {
     "data": {
      "text/plain": [
       "Text(0.5, 1.0, 'Error vs. Training Epoch')"
      ]
     },
     "execution_count": 15,
     "metadata": {},
     "output_type": "execute_result"
    },
    {
     "data": {
      "image/png": "[encoded data removed]",
      "text/plain": [
       "<Figure size 500x500 with 1 Axes>"
      ]
     },
     "metadata": {},
     "output_type": "display_data"
    }
   ],
   "source": [
    " # draw error graph\n",
    " fig, ax = plt.subplots(figsize=(5,5))\n",
    " ax.plot(np.arange(iters), costt, 'r')\n",
    " ax.set_xlabel('Iterations')\n",
    " ax.set_ylabel('Cost')\n",
    " ax.set_title('Error vs. Training Epoch')"
   ]
  },
  {
   "cell_type": "code",
   "execution_count": null,
   "id": "e18a6ddc-0eaa-411a-b276-c7d8993f80ec",
   "metadata": {},
   "outputs": [],
   "source": []
  }
 ],
 "metadata": {
  "kernelspec": {
   "display_name": "Python 3 (ipykernel)",
   "language": "python",
   "name": "python3"
  },
  "language_info": {
   "codemirror_mode": {
    "name": "ipython",
    "version": 3
   },
   "file_extension": ".py",
   "mimetype": "text/x-python",
   "name": "python",
   "nbconvert_exporter": "python",
   "pygments_lexer": "ipython3",
   "version": "3.11.7"
  },
  "widgets": {
   "application/vnd.jupyter.widget-state+json": {
    "state": {},
    "version_major": 2,
    "version_minor": 0
   }
  }
 },
 "nbformat": 4,
 "nbformat_minor": 5
}
